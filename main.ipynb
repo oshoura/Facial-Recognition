{
 "cells": [
  {
   "cell_type": "markdown",
   "metadata": {},
   "source": [
    "## Standard Dependencies"
   ]
  },
  {
   "cell_type": "code",
   "execution_count": 1,
   "metadata": {},
   "outputs": [],
   "source": [
    "# standard dependencies\n",
    "import cv2\n",
    "import os\n",
    "import random\n",
    "import numpy as np\n",
    "import matplotlib.pyplot as plt"
   ]
  },
  {
   "cell_type": "code",
   "execution_count": 2,
   "metadata": {},
   "outputs": [],
   "source": [
    "# tensorflow dependencies\n",
    "#python -m pip install tensorflow_io==0.23.1\n",
    "# conda install -c apple tensorflow-deps  \n",
    "# https://developer.apple.com/metal/tensorflow-plugin/\n",
    "# https://caffeinedev.medium.com/how-to-install-tensorflow-on-m1-mac-8e9b91d93706\n",
    "from tensorflow.keras.models import Model\n",
    "from tensorflow.keras.layers import Layer, Conv2D, Dense, MaxPooling2D, Input, Flatten\n",
    "import tensorflow as tf"
   ]
  },
  {
   "cell_type": "code",
   "execution_count": 5,
   "metadata": {},
   "outputs": [
    {
     "name": "stdout",
     "output_type": "stream",
     "text": [
      "Num GPUs Available:  1\n"
     ]
    }
   ],
   "source": [
    "# avoid GPU memory consumption\n",
    "gpus = tf.config.experimental.list_physical_devices('GPU')\n",
    "for gpu in gpus:\n",
    "    tf.config.experimental.set_memory_growth(gpu, True)\n",
    "print(\"Num GPUs Available: \", len(gpus))\n"
   ]
  },
  {
   "cell_type": "markdown",
   "metadata": {},
   "source": [
    "## Prep dataset"
   ]
  },
  {
   "cell_type": "code",
   "execution_count": 3,
   "metadata": {},
   "outputs": [],
   "source": [
    "POS_PATH = \"data/positive\"\n",
    "NEG_PATH = \"data/negative\"\n",
    "ANC_PATH = \"data/anchor\""
   ]
  },
  {
   "cell_type": "code",
   "execution_count": null,
   "metadata": {},
   "outputs": [],
   "source": [
    "# populate the negative class - only run once\n",
    "\n",
    "\n",
    "# for directory in os.listdir('lfw'):\n",
    "#     if directory == \".DS_Store\":\n",
    "#         continue\n",
    "#     for file in os.listdir(os.path.join('lfw', directory)):\n",
    "#         ex_path = os.path.join('lfw' ,directory, file)\n",
    "#         new_path = os.path.join(NEG_PATH,file)\n",
    "#         os.replace(ex_path, new_path)"
   ]
  },
  {
   "cell_type": "markdown",
   "metadata": {},
   "source": [
    "##### collect positive and anchor classes"
   ]
  },
  {
   "cell_type": "code",
   "execution_count": 7,
   "metadata": {},
   "outputs": [],
   "source": [
    "# import UUID library to generate unique names for images\n",
    "import uuid # universally unique identifier"
   ]
  },
  {
   "cell_type": "code",
   "execution_count": 65,
   "metadata": {},
   "outputs": [
    {
     "data": {
      "text/plain": [
       "'/Users/o_sho/Documents/Coding/Personal/Facial Recognition'"
      ]
     },
     "execution_count": 65,
     "metadata": {},
     "output_type": "execute_result"
    }
   ],
   "source": []
  },
  {
   "cell_type": "code",
   "execution_count": 66,
   "metadata": {},
   "outputs": [
    {
     "name": "stdout",
     "output_type": "stream",
     "text": [
      "data/anchor/e01e148e-7518-11ed-8612-5efb4bc8c78d.jpg\n",
      "data/anchor/e0526fb8-7518-11ed-8612-5efb4bc8c78d.jpg\n"
     ]
    }
   ],
   "source": [
    "# collect positive and anchor classes using cv2\n",
    "\n",
    "# establish connection to webcam\n",
    "cap = cv2.VideoCapture(0)\n",
    "while cap.isOpened():\n",
    "    ret, frame = cap.read()\n",
    "\n",
    "    # crop img to 250x250\n",
    "    y = 500\n",
    "    frame = frame[:, y:y+1080, :]\n",
    "    frame = cv2.resize(frame, (250,250), interpolation = cv2.INTER_AREA)\n",
    "    \n",
    "    # collect anchors\n",
    "    if cv2.waitKey(1) & 0xFF == ord('a'):\n",
    "        # save image with unique path\n",
    "        imgname = os.path.join(ANC_PATH, str(uuid.uuid1()) + \".jpg\")\n",
    "        print(imgname)\n",
    "        cv2.imwrite(imgname, frame)\n",
    "        \n",
    "    # collect positives\n",
    "    if cv2.waitKey(1) & 0xFF == ord('p'):\n",
    "        # save image with unique path\n",
    "        imgname = os.path.join(POS_PATH, str(uuid.uuid1()) + \".jpg\")\n",
    "        cv2.imwrite(imgname, frame)\n",
    "    \n",
    "    # display the resulting frame\n",
    "    cv2.imshow ('Image Collection', frame)\n",
    "\n",
    "    # to quit press q\n",
    "    if cv2.waitKey(1) & 0xFF == ord('q'):\n",
    "        break\n",
    "  \n",
    "# After the loop release the cap object\n",
    "cap.release()\n",
    "# Destroy all the windows\n",
    "cv2.destroyAllWindows()\n",
    "for i in range(2):\n",
    "    cv2.waitKey(1)\n",
    "    "
   ]
  },
  {
   "cell_type": "markdown",
   "metadata": {},
   "source": [
    "notes:\n",
    "- maybe get closer to camera, face gets too distorted bc its far"
   ]
  },
  {
   "cell_type": "markdown",
   "metadata": {},
   "source": [
    "## Load Data into Tensorflow"
   ]
  },
  {
   "cell_type": "code",
   "execution_count": 4,
   "metadata": {},
   "outputs": [
    {
     "name": "stderr",
     "output_type": "stream",
     "text": [
      "2022-12-26 22:14:02.606082: I tensorflow/core/common_runtime/pluggable_device/pluggable_device_factory.cc:306] Could not identify NUMA node of platform GPU ID 0, defaulting to 0. Your kernel may not have been built with NUMA support.\n",
      "2022-12-26 22:14:02.606697: I tensorflow/core/common_runtime/pluggable_device/pluggable_device_factory.cc:272] Created TensorFlow device (/job:localhost/replica:0/task:0/device:GPU:0 with 0 MB memory) -> physical PluggableDevice (device: 0, name: METAL, pci bus id: <undefined>)\n"
     ]
    },
    {
     "name": "stdout",
     "output_type": "stream",
     "text": [
      "Metal device set to: Apple M1 Pro\n",
      "\n",
      "systemMemory: 16.00 GB\n",
      "maxCacheSize: 5.33 GB\n",
      "\n"
     ]
    }
   ],
   "source": [
    "anchor = tf.data.Dataset.list_files(ANC_PATH + \"/*.jpg\").take(500)\n",
    "positive = tf.data.Dataset.list_files(POS_PATH + \"/*.jpg\").take(500)\n",
    "negative = tf.data.Dataset.list_files(NEG_PATH + \"/*.jpg\").take(500)"
   ]
  },
  {
   "cell_type": "markdown",
   "metadata": {},
   "source": [
    "### preprocessing"
   ]
  },
  {
   "cell_type": "code",
   "execution_count": 5,
   "metadata": {},
   "outputs": [],
   "source": [
    "def preprocess(file_path):\n",
    "    byte_img = tf.io.read_file(file_path)\n",
    "    img = tf.io.decode_jpeg(byte_img)\n",
    "    img = tf.image.resize(img, (100,100))\n",
    "    img = img/255\n",
    "    return img"
   ]
  },
  {
   "cell_type": "code",
   "execution_count": 6,
   "metadata": {},
   "outputs": [
    {
     "data": {
      "text/plain": [
       "<matplotlib.image.AxesImage at 0x28d11d250>"
      ]
     },
     "execution_count": 6,
     "metadata": {},
     "output_type": "execute_result"
    },
    {
     "data": {
      "image/png": "[encoded data removed]",
      "text/plain": [
       "<Figure size 640x480 with 1 Axes>"
      ]
     },
     "metadata": {},
     "output_type": "display_data"
    }
   ],
   "source": [
    "img = preprocess('data/anchor/0bbd7600-6ada-11ed-88c5-5efb4bc8c78c.jpg')\n",
    "plt.imshow(img)\n",
    "\n",
    "# ! image is a bit low quality"
   ]
  },
  {
   "cell_type": "markdown",
   "metadata": {},
   "source": [
    "### labeled dataset"
   ]
  },
  {
   "cell_type": "code",
   "execution_count": 7,
   "metadata": {},
   "outputs": [],
   "source": [
    "#(anchor, positive) -> 1, 1, 1 ...\n",
    "#(anchor, negative) -> 0, 0, 0 ..."
   ]
  },
  {
   "cell_type": "code",
   "execution_count": 8,
   "metadata": {},
   "outputs": [],
   "source": [
    "positives = tf.data.Dataset.zip((anchor, positive, tf.data.Dataset.from_tensor_slices(tf.ones(len(anchor)))))\n",
    "negatives = tf.data.Dataset.zip((anchor, negative, tf.data.Dataset.from_tensor_slices(tf.zeros(len(anchor)))))\n",
    "data = positives.concatenate(negatives)"
   ]
  },
  {
   "cell_type": "code",
   "execution_count": 9,
   "metadata": {},
   "outputs": [
    {
     "data": {
      "text/plain": [
       "(b'data/anchor/aa052c28-6ad9-11ed-88c5-5efb4bc8c78c.jpg',\n",
       " b'data/positive/acdeb952-6adc-11ed-88c5-5efb4bc8c78c.jpg',\n",
       " 1.0)"
      ]
     },
     "execution_count": 9,
     "metadata": {},
     "output_type": "execute_result"
    }
   ],
   "source": [
    "example = data.as_numpy_iterator().next()\n",
    "example"
   ]
  },
  {
   "cell_type": "markdown",
   "metadata": {},
   "source": [
    "### test and train partition"
   ]
  },
  {
   "cell_type": "code",
   "execution_count": 10,
   "metadata": {},
   "outputs": [],
   "source": [
    "def preprocess_tuple(input_img, validation_img, label):\n",
    "    return (preprocess(input_img), preprocess(validation_img), label)"
   ]
  },
  {
   "cell_type": "code",
   "execution_count": 11,
   "metadata": {},
   "outputs": [],
   "source": [
    "# preprocess the data and shuffle\n",
    "data = data.map(preprocess_tuple)\n",
    "data = data.cache()\n",
    "data = data.shuffle(1024)"
   ]
  },
  {
   "cell_type": "code",
   "execution_count": 12,
   "metadata": {},
   "outputs": [],
   "source": [
    "# train data\n",
    "train_data = data.take(round(len(data)*0.7))\n",
    "train_data = train_data.batch(16)\n",
    "train_data = train_data.prefetch(8)\n",
    "\n",
    "# test data\n",
    "test_data = data.skip(round(len(data)*0.7))\n",
    "test_data = test_data.take(round(len(data)*0.3))\n",
    "test_data = test_data.batch(16)\n",
    "test_data = test_data.prefetch(8)"
   ]
  },
  {
   "cell_type": "code",
   "execution_count": 13,
   "metadata": {},
   "outputs": [
    {
     "name": "stderr",
     "output_type": "stream",
     "text": [
      "2022-12-26 22:14:14.092361: W tensorflow/core/platform/profile_utils/cpu_utils.cc:128] Failed to get CPU frequency: 0 Hz\n"
     ]
    },
    {
     "data": {
      "image/png": "[encoded data removed]",
      "text/plain": [
       "<Figure size 640x480 with 1 Axes>"
      ]
     },
     "metadata": {},
     "output_type": "display_data"
    },
    {
     "data": {
      "image/png": "[encoded data removed]",
      "text/plain": [
       "<Figure size 640x480 with 1 Axes>"
      ]
     },
     "metadata": {},
     "output_type": "display_data"
    }
   ],
   "source": [
    "tr_iterator = train_data.as_numpy_iterator()\n",
    "plt.imshow(tr_iterator.next()[0][0])\n",
    "plt.show()\n",
    "tr_iterator = test_data.as_numpy_iterator()\n",
    "plt.imshow(tr_iterator.next()[0][0])\n",
    "plt.show()"
   ]
  },
  {
   "cell_type": "markdown",
   "metadata": {},
   "source": [
    "## Model Engineering"
   ]
  },
  {
   "cell_type": "code",
   "execution_count": 14,
   "metadata": {},
   "outputs": [],
   "source": [
    "# https://www.cs.cmu.edu/~rsalakhu/papers/oneshot1.pdf\n",
    "def make_embedding():\n",
    "    inp = Input(shape=(100,100,3), name='input_img')\n",
    "    \n",
    "    #first block\n",
    "    conv1 = Conv2D(64, (10,10), activation='relu')(inp)\n",
    "    m1 = MaxPooling2D(64, (2,2), padding='same')(conv1)\n",
    "    \n",
    "    #second block\n",
    "    conv2 = Conv2D(128, (7,7), activation='relu')(m1)\n",
    "    m2 = MaxPooling2D(64, (2,2), padding='same')(conv2)\n",
    "    \n",
    "    #third block\n",
    "    conv3 = Conv2D(128, (4,4), activation='relu')(m2)\n",
    "    m3 = MaxPooling2D(64, (2,2), padding='same')(conv3)\n",
    "    \n",
    "    #final embedding\n",
    "    conv4 = Conv2D(256, (4,4), activation='relu')(m3)\n",
    "    flat1 = Flatten()(conv4)\n",
    "    d1 = Dense(4096, activation='sigmoid')(flat1)\n",
    "    \n",
    "    return Model(inputs = [inp], outputs = [d1], name = 'embedding' )\n",
    "\n",
    "embedding = make_embedding()"
   ]
  },
  {
   "cell_type": "code",
   "execution_count": 15,
   "metadata": {},
   "outputs": [],
   "source": [
    "# creating the distance layer\n",
    "class L1Dist(Layer):\n",
    "    def __init__(self, **kwargs):\n",
    "        super().__init__(**kwargs)\n",
    "    \n",
    "    # performing similarity calculation\n",
    "    def call(self, input_embedding, validation_embedding):\n",
    "        return tf.math.abs(input_embedding - validation_embedding)\n",
    "    "
   ]
  },
  {
   "cell_type": "code",
   "execution_count": 16,
   "metadata": {},
   "outputs": [],
   "source": [
    "def make_siamese_model():\n",
    "    \n",
    "    # inp = anchor, validation = positive or negative\n",
    "    input_img = Input(shape=(100,100,3), name='input_img')\n",
    "    validation_img = Input(shape=(100,100,3), name='validation_img')\n",
    "    \n",
    "    # combine embeddings in a simaese layer\n",
    "    siamese_layer = L1Dist(name='distance')\n",
    "    distances = siamese_layer(embedding(input_img), embedding(validation_img))\n",
    "    \n",
    "    # classification layer\n",
    "    classifier = Dense(1, activation='sigmoid', name='classifier')(distances)\n",
    "    \n",
    "    return Model(inputs=[input_img, validation_img], outputs=[classifier], name='siamese_model')\n",
    "\n",
    "siamese_model = make_siamese_model()"
   ]
  },
  {
   "cell_type": "markdown",
   "metadata": {},
   "source": [
    "## Training"
   ]
  },
  {
   "cell_type": "code",
   "execution_count": 17,
   "metadata": {},
   "outputs": [],
   "source": [
    "## loss function\n",
    "binary_cross_loss = tf.keras.losses.BinaryCrossentropy()\n",
    "\n",
    "## optimizer\n",
    "opt = tf.keras.optimizers.Adam(learning_rate=0.0001)"
   ]
  },
  {
   "cell_type": "code",
   "execution_count": 52,
   "metadata": {},
   "outputs": [],
   "source": [
    "checkpoint_dir = './training_checkpoints'\n",
    "checkpoint_prefic = os.path.join(checkpoint_dir, \"ckpt\")\n",
    "checkpoint = tf.train.Checkpoint(siamese_model=siamese_model, opt=opt)"
   ]
  },
  {
   "cell_type": "markdown",
   "metadata": {},
   "source": [
    "### train step function"
   ]
  },
  {
   "cell_type": "code",
   "execution_count": 53,
   "metadata": {},
   "outputs": [],
   "source": [
    "@tf.function\n",
    "def train_step(batch):\n",
    "    \n",
    "    # record the operations done during the forward pass\n",
    "    with tf.GradientTape() as tape:\n",
    "        \n",
    "        # unlood input and validation images and labels\n",
    "        X = batch[:2]\n",
    "        y = batch[2]\n",
    "        \n",
    "        # forward pass\n",
    "        y_pred = siamese_model(X, training=True)\n",
    "                \n",
    "        # loss calculation\n",
    "        loss = binary_cross_loss(y, y_pred)\n",
    "        \n",
    "    # calculate gradients\n",
    "    grad = tape.gradient(loss, siamese_model.trainable_variables)\n",
    "    \n",
    "    # calculate updated weights then apply to model\n",
    "    opt.apply_gradients(zip(grad, siamese_model.trainable_variables))\n",
    "    \n",
    "    return loss"
   ]
  },
  {
   "cell_type": "markdown",
   "metadata": {},
   "source": [
    "### training loop"
   ]
  },
  {
   "cell_type": "code",
   "execution_count": 54,
   "metadata": {},
   "outputs": [],
   "source": [
    "def train(data, EPOCHS):\n",
    "    # loop through epochs\n",
    "    for epoch in range(1, EPOCHS+1):\n",
    "        \n",
    "        print(f'Epoch {epoch} of {EPOCHS}')\n",
    "        progbar = tf.keras.utils.Progbar(len(data))\n",
    "        \n",
    "        for idx, batch in enumerate(data):\n",
    "            loss = train_step(batch)\n",
    "            progbar.update(idx+1, values=[('loss', loss)])\n",
    "        \n",
    "        if epoch % 5 == 0:\n",
    "            checkpoint.save(file_prefix=checkpoint_prefic)"
   ]
  },
  {
   "cell_type": "markdown",
   "metadata": {},
   "source": [
    "## Train Model"
   ]
  },
  {
   "cell_type": "code",
   "execution_count": 55,
   "metadata": {},
   "outputs": [],
   "source": [
    "EPOCHS = 50"
   ]
  },
  {
   "cell_type": "code",
   "execution_count": 56,
   "metadata": {},
   "outputs": [
    {
     "name": "stdout",
     "output_type": "stream",
     "text": [
      "Epoch 1 of 50\n"
     ]
    },
    {
     "name": "stderr",
     "output_type": "stream",
     "text": [
      "2022-12-05 22:00:16.347540: I tensorflow/core/grappler/optimizers/custom_graph_optimizer_registry.cc:114] Plugin optimizer for device_type GPU is enabled.\n"
     ]
    },
    {
     "name": "stdout",
     "output_type": "stream",
     "text": [
      "43/44 [============================>.] - ETA: 1s - loss: 0.3791"
     ]
    },
    {
     "name": "stderr",
     "output_type": "stream",
     "text": [
      "2022-12-05 22:01:07.949245: I tensorflow/core/grappler/optimizers/custom_graph_optimizer_registry.cc:114] Plugin optimizer for device_type GPU is enabled.\n"
     ]
    },
    {
     "name": "stdout",
     "output_type": "stream",
     "text": [
      "44/44 [==============================] - 53s 1s/step - loss: 0.3748\n",
      "Epoch 2 of 50\n",
      "44/44 [==============================] - 50s 1s/step - loss: 0.0864\n",
      "Epoch 3 of 50\n",
      "44/44 [==============================] - 51s 1s/step - loss: 0.0638\n",
      "Epoch 4 of 50\n",
      "44/44 [==============================] - 54s 1s/step - loss: 0.0540\n",
      "Epoch 5 of 50\n",
      "44/44 [==============================] - 51s 1s/step - loss: 0.0378\n",
      "Epoch 6 of 50\n",
      "44/44 [==============================] - 52s 1s/step - loss: 0.0271\n",
      "Epoch 7 of 50\n",
      "44/44 [==============================] - 50s 1s/step - loss: 0.0172\n",
      "Epoch 8 of 50\n",
      "44/44 [==============================] - 51s 1s/step - loss: 0.0775\n",
      "Epoch 9 of 50\n",
      "44/44 [==============================] - 50s 1s/step - loss: 0.0119\n",
      "Epoch 10 of 50\n",
      "44/44 [==============================] - 50s 1s/step - loss: 0.0170\n",
      "Epoch 11 of 50\n",
      "44/44 [==============================] - 52s 1s/step - loss: 0.0082\n",
      "Epoch 12 of 50\n",
      "44/44 [==============================] - 50s 1s/step - loss: 0.0095\n",
      "Epoch 13 of 50\n",
      "44/44 [==============================] - 50s 1s/step - loss: 0.0158\n",
      "Epoch 14 of 50\n",
      "44/44 [==============================] - 51s 1s/step - loss: 0.0077\n",
      "Epoch 15 of 50\n",
      "44/44 [==============================] - 50s 1s/step - loss: 0.0051\n",
      "Epoch 16 of 50\n",
      "44/44 [==============================] - 51s 1s/step - loss: 0.0013\n",
      "Epoch 17 of 50\n",
      "44/44 [==============================] - 51s 1s/step - loss: 0.0025\n",
      "Epoch 18 of 50\n",
      "44/44 [==============================] - 51s 1s/step - loss: 0.0036\n",
      "Epoch 19 of 50\n",
      "44/44 [==============================] - 51s 1s/step - loss: 0.0164\n",
      "Epoch 20 of 50\n",
      "44/44 [==============================] - 51s 1s/step - loss: 0.0158\n",
      "Epoch 21 of 50\n",
      "44/44 [==============================] - 52s 1s/step - loss: 0.0100\n",
      "Epoch 22 of 50\n",
      "44/44 [==============================] - 51s 1s/step - loss: 0.0020\n",
      "Epoch 23 of 50\n",
      "44/44 [==============================] - 50s 1s/step - loss: 9.3627e-04\n",
      "Epoch 24 of 50\n",
      "44/44 [==============================] - 50s 1s/step - loss: 3.0113e-04\n",
      "Epoch 25 of 50\n",
      "44/44 [==============================] - 50s 1s/step - loss: 1.6949e-04\n",
      "Epoch 26 of 50\n",
      "44/44 [==============================] - 52s 1s/step - loss: 1.3925e-04\n",
      "Epoch 27 of 50\n",
      "44/44 [==============================] - 50s 1s/step - loss: 6.5009e-05\n",
      "Epoch 28 of 50\n",
      "44/44 [==============================] - 50s 1s/step - loss: 6.7063e-05\n",
      "Epoch 29 of 50\n",
      "44/44 [==============================] - 50s 1s/step - loss: 6.3786e-05\n",
      "Epoch 30 of 50\n",
      "44/44 [==============================] - 50s 1s/step - loss: 6.4606e-05\n",
      "Epoch 31 of 50\n",
      "44/44 [==============================] - 52s 1s/step - loss: 4.3422e-05\n",
      "Epoch 32 of 50\n",
      "44/44 [==============================] - 50s 1s/step - loss: 3.4361e-05\n",
      "Epoch 33 of 50\n",
      "44/44 [==============================] - 49s 1s/step - loss: 3.4316e-05\n",
      "Epoch 34 of 50\n",
      "44/44 [==============================] - 50s 1s/step - loss: 3.6813e-05\n",
      "Epoch 35 of 50\n"
     ]
    },
    {
     "ename": "KeyboardInterrupt",
     "evalue": "",
     "output_type": "error",
     "traceback": [
      "\u001b[0;31m---------------------------------------------------------------------------\u001b[0m",
      "\u001b[0;31mKeyboardInterrupt\u001b[0m                         Traceback (most recent call last)",
      "Cell \u001b[0;32mIn [56], line 1\u001b[0m\n\u001b[0;32m----> 1\u001b[0m train(train_data, EPOCHS)\n",
      "Cell \u001b[0;32mIn [54], line 10\u001b[0m, in \u001b[0;36mtrain\u001b[0;34m(data, EPOCHS)\u001b[0m\n\u001b[1;32m      8\u001b[0m \u001b[39mfor\u001b[39;00m idx, batch \u001b[39min\u001b[39;00m \u001b[39menumerate\u001b[39m(data):\n\u001b[1;32m      9\u001b[0m     loss \u001b[39m=\u001b[39m train_step(batch)\n\u001b[0;32m---> 10\u001b[0m     progbar\u001b[39m.\u001b[39;49mupdate(idx\u001b[39m+\u001b[39;49m\u001b[39m1\u001b[39;49m, values\u001b[39m=\u001b[39;49m[(\u001b[39m'\u001b[39;49m\u001b[39mloss\u001b[39;49m\u001b[39m'\u001b[39;49m, loss)])\n\u001b[1;32m     12\u001b[0m \u001b[39mif\u001b[39;00m epoch \u001b[39m%\u001b[39m \u001b[39m5\u001b[39m \u001b[39m==\u001b[39m \u001b[39m0\u001b[39m:\n\u001b[1;32m     13\u001b[0m     checkpoint\u001b[39m.\u001b[39msave(file_prefix\u001b[39m=\u001b[39mcheckpoint_prefic)\n",
      "File \u001b[0;32m~/miniforge3/envs/faceid2/lib/python3.8/site-packages/keras/utils/generic_utils.py:1033\u001b[0m, in \u001b[0;36mProgbar.update\u001b[0;34m(self, current, values, finalize)\u001b[0m\n\u001b[1;32m   1031\u001b[0m info \u001b[39m+\u001b[39m\u001b[39m=\u001b[39m \u001b[39m\"\u001b[39m\u001b[39m - \u001b[39m\u001b[39m%s\u001b[39;00m\u001b[39m:\u001b[39m\u001b[39m\"\u001b[39m \u001b[39m%\u001b[39m k\n\u001b[1;32m   1032\u001b[0m \u001b[39mif\u001b[39;00m \u001b[39misinstance\u001b[39m(\u001b[39mself\u001b[39m\u001b[39m.\u001b[39m_values[k], \u001b[39mlist\u001b[39m):\n\u001b[0;32m-> 1033\u001b[0m     avg \u001b[39m=\u001b[39m np\u001b[39m.\u001b[39;49mmean(\n\u001b[1;32m   1034\u001b[0m         \u001b[39mself\u001b[39;49m\u001b[39m.\u001b[39;49m_values[k][\u001b[39m0\u001b[39;49m] \u001b[39m/\u001b[39;49m \u001b[39mmax\u001b[39;49m(\u001b[39m1\u001b[39;49m, \u001b[39mself\u001b[39;49m\u001b[39m.\u001b[39;49m_values[k][\u001b[39m1\u001b[39;49m])\n\u001b[1;32m   1035\u001b[0m     )\n\u001b[1;32m   1036\u001b[0m     \u001b[39mif\u001b[39;00m \u001b[39mabs\u001b[39m(avg) \u001b[39m>\u001b[39m \u001b[39m1e-3\u001b[39m:\n\u001b[1;32m   1037\u001b[0m         info \u001b[39m+\u001b[39m\u001b[39m=\u001b[39m \u001b[39m\"\u001b[39m\u001b[39m \u001b[39m\u001b[39m%.4f\u001b[39;00m\u001b[39m\"\u001b[39m \u001b[39m%\u001b[39m avg\n",
      "File \u001b[0;32m<__array_function__ internals>:180\u001b[0m, in \u001b[0;36mmean\u001b[0;34m(*args, **kwargs)\u001b[0m\n",
      "File \u001b[0;32m~/miniforge3/envs/faceid2/lib/python3.8/site-packages/numpy/core/fromnumeric.py:3432\u001b[0m, in \u001b[0;36mmean\u001b[0;34m(a, axis, dtype, out, keepdims, where)\u001b[0m\n\u001b[1;32m   3429\u001b[0m     \u001b[39melse\u001b[39;00m:\n\u001b[1;32m   3430\u001b[0m         \u001b[39mreturn\u001b[39;00m mean(axis\u001b[39m=\u001b[39maxis, dtype\u001b[39m=\u001b[39mdtype, out\u001b[39m=\u001b[39mout, \u001b[39m*\u001b[39m\u001b[39m*\u001b[39mkwargs)\n\u001b[0;32m-> 3432\u001b[0m \u001b[39mreturn\u001b[39;00m _methods\u001b[39m.\u001b[39;49m_mean(a, axis\u001b[39m=\u001b[39;49maxis, dtype\u001b[39m=\u001b[39;49mdtype,\n\u001b[1;32m   3433\u001b[0m                       out\u001b[39m=\u001b[39;49mout, \u001b[39m*\u001b[39;49m\u001b[39m*\u001b[39;49mkwargs)\n",
      "File \u001b[0;32m~/miniforge3/envs/faceid2/lib/python3.8/site-packages/numpy/core/_methods.py:164\u001b[0m, in \u001b[0;36m_mean\u001b[0;34m(a, axis, dtype, out, keepdims, where)\u001b[0m\n\u001b[1;32m    163\u001b[0m \u001b[39mdef\u001b[39;00m \u001b[39m_mean\u001b[39m(a, axis\u001b[39m=\u001b[39m\u001b[39mNone\u001b[39;00m, dtype\u001b[39m=\u001b[39m\u001b[39mNone\u001b[39;00m, out\u001b[39m=\u001b[39m\u001b[39mNone\u001b[39;00m, keepdims\u001b[39m=\u001b[39m\u001b[39mFalse\u001b[39;00m, \u001b[39m*\u001b[39m, where\u001b[39m=\u001b[39m\u001b[39mTrue\u001b[39;00m):\n\u001b[0;32m--> 164\u001b[0m     arr \u001b[39m=\u001b[39m asanyarray(a)\n\u001b[1;32m    166\u001b[0m     is_float16_result \u001b[39m=\u001b[39m \u001b[39mFalse\u001b[39;00m\n\u001b[1;32m    168\u001b[0m     rcount \u001b[39m=\u001b[39m _count_reduce_items(arr, axis, keepdims\u001b[39m=\u001b[39mkeepdims, where\u001b[39m=\u001b[39mwhere)\n",
      "\u001b[0;31mKeyboardInterrupt\u001b[0m: "
     ]
    }
   ],
   "source": [
    "train(train_data, EPOCHS)"
   ]
  },
  {
   "cell_type": "markdown",
   "metadata": {},
   "source": [
    "## Evaluation"
   ]
  },
  {
   "cell_type": "code",
   "execution_count": 57,
   "metadata": {},
   "outputs": [],
   "source": [
    "from tensorflow.keras.metrics import Precision, Recall"
   ]
  },
  {
   "cell_type": "code",
   "execution_count": 59,
   "metadata": {},
   "outputs": [
    {
     "name": "stdout",
     "output_type": "stream",
     "text": [
      "1/1 [==============================] - 0s 316ms/step\n"
     ]
    },
    {
     "name": "stderr",
     "output_type": "stream",
     "text": [
      "2022-12-05 22:30:04.399697: I tensorflow/core/grappler/optimizers/custom_graph_optimizer_registry.cc:114] Plugin optimizer for device_type GPU is enabled.\n"
     ]
    },
    {
     "name": "stdout",
     "output_type": "stream",
     "text": [
      "1/1 [==============================] - 0s 21ms/step\n",
      "1/1 [==============================] - 0s 19ms/step\n",
      "1/1 [==============================] - 0s 23ms/step\n",
      "1/1 [==============================] - 0s 18ms/step\n",
      "1/1 [==============================] - 0s 18ms/step\n",
      "1/1 [==============================] - 0s 21ms/step\n",
      "1/1 [==============================] - 0s 17ms/step\n",
      "1/1 [==============================] - 0s 18ms/step\n",
      "1/1 [==============================] - 0s 17ms/step\n",
      "1/1 [==============================] - 0s 16ms/step\n",
      "1/1 [==============================] - 0s 16ms/step\n",
      "1/1 [==============================] - 0s 18ms/step\n",
      "1/1 [==============================] - 0s 17ms/step\n",
      "1/1 [==============================] - 0s 17ms/step\n",
      "1/1 [==============================] - 0s 16ms/step\n",
      "1/1 [==============================] - 0s 22ms/step\n",
      "1/1 [==============================] - 0s 16ms/step\n",
      "1/1 [==============================] - 0s 83ms/step\n"
     ]
    }
   ],
   "source": [
    "# make predictions\n",
    "y_pred = np.empty((1,1))\n",
    "y_true = np.empty((1))\n",
    "for test_input, test_val, sample_true in test_data.as_numpy_iterator():\n",
    "    temp = siamese_model.predict([test_input, test_val])\n",
    "    y_pred = np.concatenate((y_pred, temp))\n",
    "    y_true = np.concatenate((y_true, sample_true))\n",
    "y_pred = y_pred[1:]\n",
    "y_true = y_true[1:]"
   ]
  },
  {
   "cell_type": "code",
   "execution_count": 63,
   "metadata": {},
   "outputs": [
    {
     "name": "stdout",
     "output_type": "stream",
     "text": [
      "Precision:  1.0\n",
      "Recall:  1.0\n"
     ]
    }
   ],
   "source": [
    "# Calculate metrics\n",
    "\n",
    "# precision\n",
    "p = Precision()\n",
    "p.update_state(y_true, y_pred)\n",
    "print('Precision: ', p.result().numpy())\n",
    "\n",
    "# recall\n",
    "r = Recall()\n",
    "r.update_state(y_true, y_pred)\n",
    "print('Recall: ', r.result().numpy())\n"
   ]
  },
  {
   "cell_type": "markdown",
   "metadata": {},
   "source": [
    "## Manual testing"
   ]
  },
  {
   "cell_type": "code",
   "execution_count": 81,
   "metadata": {},
   "outputs": [],
   "source": [
    "input_img_name = \"input_image.jpg\"\n",
    "verification_folder = \"verification_data\""
   ]
  },
  {
   "cell_type": "code",
   "execution_count": 90,
   "metadata": {},
   "outputs": [],
   "source": [
    "def verify(model, detection_threshold, verification_threshold):\n",
    "    # Build results array\n",
    "    results = []\n",
    "    for image in [f for f in os.listdir(verification_folder) if not f.startswith('.')]:\n",
    "        input_img = preprocess(input_img_name)\n",
    "        validation_img = preprocess(os.path.join(verification_folder, image))\n",
    "        \n",
    "        # Make Predictions\n",
    "        result = model.predict(list(np.expand_dims([input_img, validation_img], axis=1)), verbose=0)\n",
    "        results.append(result)\n",
    "        \n",
    "    # Detection Threshold: Metric above which a prediciton is considered positive\n",
    "    detection = np.sum(np.array(results) > detection_threshold)\n",
    "    # Verification Threshold: Proportion of positive predictions / total positive samples\n",
    "    verification = detection / len(os.listdir(verification_folder))\n",
    "    verified = verification > verification_threshold \n",
    "    \n",
    "    return results, verified"
   ]
  },
  {
   "cell_type": "code",
   "execution_count": null,
   "metadata": {},
   "outputs": [],
   "source": []
  },
  {
   "cell_type": "code",
   "execution_count": 100,
   "metadata": {},
   "outputs": [
    {
     "name": "stderr",
     "output_type": "stream",
     "text": [
      "2022-12-06 21:25:48.753389: I tensorflow/core/grappler/optimizers/custom_graph_optimizer_registry.cc:114] Plugin optimizer for device_type GPU is enabled.\n"
     ]
    },
    {
     "name": "stdout",
     "output_type": "stream",
     "text": [
      "True\n"
     ]
    }
   ],
   "source": [
    "results, verified = verify(loaded_model, 0.5, 0.7)\n",
    "print(verified)"
   ]
  },
  {
   "cell_type": "code",
   "execution_count": 101,
   "metadata": {},
   "outputs": [
    {
     "name": "stdout",
     "output_type": "stream",
     "text": [
      "True\n",
      "True\n",
      "True\n"
     ]
    }
   ],
   "source": [
    "cap = cv2.VideoCapture(0)\n",
    "while cap.isOpened():\n",
    "    ret, frame = cap.read()\n",
    "\n",
    "    # crop img to 250x250\n",
    "    y = 500\n",
    "    frame = frame[:, y:y+1080, :]\n",
    "    \n",
    "\n",
    "    if cv2.waitKey(1) & 0xFF == ord('v'):\n",
    "        cv2.imwrite(input_img_name, frame)\n",
    "        #verify\n",
    "        results, verified = verify(siamese_model, 0.5, 0.7)\n",
    "        print(verified)\n",
    "    \n",
    "    # display the resulting frame\n",
    "    cv2.imshow ('Image Collection', frame)\n",
    "\n",
    "    # to quit press q\n",
    "    if cv2.waitKey(1) & 0xFF == ord('q'):\n",
    "        break\n",
    "  \n",
    "# After the loop release the cap object\n",
    "cap.release()\n",
    "# Destroy all the windows\n",
    "cv2.destroyAllWindows()\n",
    "for i in range(2):\n",
    "    cv2.waitKey(1)\n",
    "    "
   ]
  },
  {
   "cell_type": "markdown",
   "metadata": {},
   "source": [
    "### save model"
   ]
  },
  {
   "cell_type": "code",
   "execution_count": 99,
   "metadata": {},
   "outputs": [
    {
     "name": "stdout",
     "output_type": "stream",
     "text": [
      "WARNING:tensorflow:Compiled the loaded model, but the compiled metrics have yet to be built. `model.compile_metrics` will be empty until you train or evaluate the model.\n",
      "WARNING:tensorflow:No training configuration found in the save file, so the model was *not* compiled. Compile it manually.\n"
     ]
    }
   ],
   "source": [
    "# save model\n",
    "# siamese_model.save('siamese_model.h5')\n",
    "\n",
    "# how to reload:\n",
    "loaded_model = tf.keras.models.load_model('siamese_model.h5', custom_objects={'L1Dist': L1Dist, 'BinaryCrossentropy': tf.keras.losses.BinaryCrossentropy})\n",
    "# model.predict([test_input, test_val])\n"
   ]
  }
 ],
 "metadata": {
  "kernelspec": {
   "display_name": "Python 3.8.15 ('faceid2')",
   "language": "python",
   "name": "python3"
  },
  "language_info": {
   "codemirror_mode": {
    "name": "ipython",
    "version": 3
   },
   "file_extension": ".py",
   "mimetype": "text/x-python",
   "name": "python",
   "nbconvert_exporter": "python",
   "pygments_lexer": "ipython3",
   "version": "3.8.15"
  },
  "orig_nbformat": 4,
  "vscode": {
   "interpreter": {
    "hash": "1ed40df34c53be90483d4d19dc0567b281e25774e40e6f1adb365a4f854ef19a"
   }
  }
 },
 "nbformat": 4,
 "nbformat_minor": 2
}
